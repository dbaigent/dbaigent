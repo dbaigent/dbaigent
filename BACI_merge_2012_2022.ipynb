{
 "cells": [
  {
   "cell_type": "code",
   "execution_count": 4,
   "metadata": {},
   "outputs": [
    {
     "name": "stdout",
     "output_type": "stream",
     "text": [
      "              t    i    j       k       v              q\n",
      "0          2012    4    8  610469   2.734          0.044\n",
      "1          2012    4    8  630900   0.110          0.082\n",
      "2          2012    4   12   91099   1.185          1.200\n",
      "3          2012    4   32  392630   1.288          0.123\n",
      "4          2012    4   32  710310   0.096          0.004\n",
      "...         ...  ...  ...     ...     ...            ...\n",
      "118712728  2022  894  858  870891   1.304          0.052\n",
      "118712729  2022  894  858  870895   0.161          0.002\n",
      "118712730  2022  894  858  870899   0.021          0.001\n",
      "118712731  2022  894  860  843143  66.201          0.190\n",
      "118712732  2022  894  860  843149  70.678          0.200\n",
      "\n",
      "[118712733 rows x 6 columns]\n"
     ]
    }
   ],
   "source": [
    "import os\n",
    "import pandas as pd\n",
    "\n",
    "# Specify the directory where your CSV files are located\n",
    "directory_path ='BACI_HS12_V202401'\n",
    "\n",
    "# List of file names\n",
    "file_names = [\n",
    "    'BACI_HS12_Y2012_V202401.csv',\n",
    "    'BACI_HS12_Y2013_V202401.csv',\n",
    "    'BACI_HS12_Y2014_V202401.csv',\n",
    "    'BACI_HS12_Y2015_V202401.csv',\n",
    "    'BACI_HS12_Y2016_V202401.csv',\n",
    "    'BACI_HS12_Y2017_V202401.csv',\n",
    "    'BACI_HS12_Y2018_V202401.csv',\n",
    "    'BACI_HS12_Y2019_V202401.csv',\n",
    "    'BACI_HS12_Y2020_V202401.csv',\n",
    "    'BACI_HS12_Y2021_V202401.csv',\n",
    "    'BACI_HS12_Y2022_V202401.csv'\n",
    "]\n",
    "\n",
    "# Initialize an empty list to store DataFrames\n",
    "dfs = []\n",
    "\n",
    "# Loop through each CSV file and append its data to the list\n",
    "for file_name in file_names:\n",
    "    file_path = os.path.join('BACI_HS12_V202401', file_name)\n",
    "    df = pd.read_csv(file_path)\n",
    "    dfs.append(df)\n",
    "\n",
    "# Concatenate the list of DataFrames into a single DataFrame\n",
    "merged_data = pd.concat(dfs, ignore_index=True)\n",
    "\n",
    "# Save the merged DataFrame to a new CSV file on the desktop\n",
    "merged_data.to_csv(os.path.join('BACI_HS12_V202401', 'merged_data.csv'), index=False)\n",
    "\n",
    "# Display the merged DataFrame\n",
    "print(merged_data)\n",
    "\n"
   ]
  }
 ],
 "metadata": {
  "kernelspec": {
   "display_name": "Python 3",
   "language": "python",
   "name": "python3"
  },
  "language_info": {
   "codemirror_mode": {
    "name": "ipython",
    "version": 3
   },
   "file_extension": ".py",
   "mimetype": "text/x-python",
   "name": "python",
   "nbconvert_exporter": "python",
   "pygments_lexer": "ipython3",
   "version": "3.11.5"
  }
 },
 "nbformat": 4,
 "nbformat_minor": 2
}
