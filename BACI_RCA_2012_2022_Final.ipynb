{
 "cells": [
  {
   "metadata": {
    "ExecuteTime": {
     "end_time": "2024-06-18T16:31:31.535716Z",
     "start_time": "2024-06-18T16:22:30.569309Z"
    }
   },
   "cell_type": "code",
   "source": [
    "import os\n",
    "import pandas as pd\n",
    "import pyarrow as pa\n",
    "import pyarrow.parquet as pq\n",
    "\n",
    "# Set the directory path\n",
    "directory_path = '/Users/dbai033/Desktop/Trade_Project/Final_output'\n",
    "\n",
    "# Load the data from CSV (replace 'your_data.csv' with your actual file name)\n",
    "file_path = os.path.join(directory_path, 'BACI_2012_2022_merged_data.csv')\n",
    "df = pd.read_csv(file_path)\n",
    "\n",
    "df['i'] = df['i'].astype('category')\n",
    "df['j'] = df['j'].astype('category')\n",
    "df['k'] = df['k'].astype('category')\n",
    "\n",
    "df = df.rename(columns={'t': 'year', 'i': 'exporter', 'j': 'importer', 'k': 'product', 'v': 'value', 'q': 'quantity'})\n",
    "\n",
    "# Calculate total export value by exporter and year\n",
    "df['total_exports_by_exporter_by_year'] = df.groupby(['exporter', 'year'])['value'].transform('sum')\n",
    "\n",
    "# Calculate total export value by product, exporter and year\n",
    "df['total_exports_by_product_by_exporter_by_year'] = df.groupby(['product', 'exporter', 'year'])['value'].transform('sum')\n",
    "\n",
    "# Calculate total export value by product and year\n",
    "df['total_exports_by_product_by_year'] = df.groupby(['product', 'year'])['value'].transform('sum')\n",
    "\n",
    "# Calculate total export value by year\n",
    "df['total_exports_by_year'] = df.groupby(['year'])['value'].transform('sum')\n",
    "\n",
    "# Calculate Revealed Comparative Advantage (RCA)\n",
    "df['RCA'] = (df['total_exports_by_product_by_exporter_by_year'] / df['total_exports_by_exporter_by_year']) / (df['total_exports_by_product_by_year'] / df['total_exports_by_year'])\n",
    "\n",
    "# Round to 2 decimal places\n",
    "df['RCA'] = df['RCA'].round(2)\n",
    "\n",
    "# Set the directory path for the Parquet file\n",
    "parquet_file_path = os.path.join(directory_path, 'outputRCAFinal5.parquet')\n",
    "\n",
    "# Save DataFrame as Parquet file\n",
    "df.to_parquet(parquet_file_path, engine='pyarrow', compression='GZIP')\n"
   ],
   "id": "e9755295bba78924",
   "outputs": [],
   "execution_count": 4
  }
 ],
 "metadata": {
  "kernelspec": {
   "display_name": "Python 3",
   "language": "python",
   "name": "python3"
  },
  "language_info": {
   "codemirror_mode": {
    "name": "ipython",
    "version": 2
   },
   "file_extension": ".py",
   "mimetype": "text/x-python",
   "name": "python",
   "nbconvert_exporter": "python",
   "pygments_lexer": "ipython2",
   "version": "2.7.6"
  }
 },
 "nbformat": 4,
 "nbformat_minor": 5
}
